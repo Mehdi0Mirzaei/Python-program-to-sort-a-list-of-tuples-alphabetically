{
 "cells": [
  {
   "cell_type": "code",
   "execution_count": 10,
   "id": "3254e370",
   "metadata": {},
   "outputs": [
    {
     "name": "stdout",
     "output_type": "stream",
     "text": [
      "[('Abhishek', 29), ('Amana', 28), ('B', 'C'), ('Nikhil', 21), ('Zenat', 30)]\n"
     ]
    }
   ],
   "source": [
    "def SortTuple(tup):\n",
    "     \n",
    "    # Getting the length of list \n",
    "    # of tuples\n",
    "    n = len(tup)\n",
    "     \n",
    "    for i in range(n):\n",
    "        for j in range(n-i-1):\n",
    "             \n",
    "            if tup[j][0] > tup[j + 1][0]:\n",
    "                tup[j], tup[j + 1] = tup[j + 1], tup[j]\n",
    "                 \n",
    "    return tup\n",
    "     \n",
    "# Driver's code\n",
    " \n",
    "tup = [(\"Amana\", 28), (\"Zenat\", 30), (\"Abhishek\", 29),\n",
    "        (\"Nikhil\", 21), (\"B\", \"C\")]\n",
    "         \n",
    "print(SortTuple(tup))"
   ]
  },
  {
   "cell_type": "code",
   "execution_count": 11,
   "id": "a08fe09e",
   "metadata": {},
   "outputs": [
    {
     "name": "stdout",
     "output_type": "stream",
     "text": [
      "[('Abhishek', 29), ('Amana', 28), ('B', 'C'), ('Nikhil', 21), ('Zenat', 30)]\n"
     ]
    }
   ],
   "source": [
    "def SortTuple(tup):  \n",
    "   # reverse = None (Sorts in Ascending order)  \n",
    "    # key is set to sort using first element of  \n",
    "    # sublist lambda has been used  \n",
    "    tup.sort(key = lambda x: x[0])  \n",
    "    return tup  \n",
    "     \n",
    "# Driver's code\n",
    " \n",
    "tup = [(\"Amana\", 28), (\"Zenat\", 30), (\"Abhishek\", 29),\n",
    "        (\"Nikhil\", 21), (\"B\", \"C\")]\n",
    "         \n",
    "print(SortTuple(tup))"
   ]
  },
  {
   "cell_type": "code",
   "execution_count": 12,
   "id": "d9e575a4",
   "metadata": {},
   "outputs": [
    {
     "name": "stdout",
     "output_type": "stream",
     "text": [
      "[('Abhishek', 29), ('Amana', 28), ('B', 'C'), ('Nikhil', 21), ('Zenat', 30)]\n"
     ]
    }
   ],
   "source": [
    "def Sort_Tuple(tup):  \n",
    "   # reverse = None (Sorts in Ascending order)  \n",
    "    # key is set to sort using first element of  \n",
    "    # sublist lambda has been used  \n",
    "    return(sorted(tup, key = lambda x: x[0]))   \n",
    "   \n",
    "# Driver Code  \n",
    "tup = [(\"Amana\", 28), (\"Zenat\", 30), (\"Abhishek\", 29),\n",
    "        (\"Nikhil\", 21), (\"B\", \"C\")]\n",
    "   \n",
    "# printing the sorted list of tuples \n",
    "print(Sort_Tuple(tup)) "
   ]
  },
  {
   "cell_type": "code",
   "execution_count": null,
   "id": "73e1374c",
   "metadata": {},
   "outputs": [],
   "source": []
  }
 ],
 "metadata": {
  "kernelspec": {
   "display_name": "Python 3 (ipykernel)",
   "language": "python",
   "name": "python3"
  },
  "language_info": {
   "codemirror_mode": {
    "name": "ipython",
    "version": 3
   },
   "file_extension": ".py",
   "mimetype": "text/x-python",
   "name": "python",
   "nbconvert_exporter": "python",
   "pygments_lexer": "ipython3",
   "version": "3.9.13"
  }
 },
 "nbformat": 4,
 "nbformat_minor": 5
}
